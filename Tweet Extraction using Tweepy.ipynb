{
 "cells": [
  {
   "cell_type": "code",
   "execution_count": 1,
   "metadata": {},
   "outputs": [],
   "source": [
    "from tweepy import Stream"
   ]
  },
  {
   "cell_type": "code",
   "execution_count": 2,
   "metadata": {},
   "outputs": [],
   "source": [
    "from tweepy import OAuthHandler"
   ]
  },
  {
   "cell_type": "code",
   "execution_count": 3,
   "metadata": {},
   "outputs": [],
   "source": [
    "from tweepy.streaming import StreamListener"
   ]
  },
  {
   "cell_type": "code",
   "execution_count": 4,
   "metadata": {},
   "outputs": [],
   "source": [
    "import json"
   ]
  },
  {
   "cell_type": "code",
   "execution_count": 2,
   "metadata": {},
   "outputs": [],
   "source": [
    "import pandas as pd\n",
    "import re\n",
    "import tweepy"
   ]
  },
  {
   "cell_type": "code",
   "execution_count": 6,
   "metadata": {},
   "outputs": [],
   "source": [
    "import os\n",
    "import time"
   ]
  },
  {
   "cell_type": "code",
   "execution_count": 7,
   "metadata": {},
   "outputs": [],
   "source": [
    "consumer_key='FGLuYVs1pSCoRrTYDRubcJTRX'\n",
    "consumer_secret='rnoqtyH7xVxH5INv2DIO5Zycg61lpjfJCnBccQqUPdavaMVA3r'\n",
    "access_token='719031410787352576-QEIc0PEYQaSZPnOe0he9iFdiLdZ0RxI'\n",
    "access_token_secret='a0J9whK3ApgSldIT1RpmriKduM0S9Uq6D9Omp2CHc04Gq'"
   ]
  },
  {
   "cell_type": "code",
   "execution_count": 8,
   "metadata": {},
   "outputs": [],
   "source": [
    "#Here we actually start our work by giving tweepy our API keys to handle data extraction\n",
    "auth =OAuthHandler(consumer_key, consumer_secret)\n",
    "auth.set_access_token(access_token, access_token_secret)\n",
    "api=tweepy.API(auth)"
   ]
  },
  {
   "cell_type": "code",
   "execution_count": 9,
   "metadata": {},
   "outputs": [],
   "source": [
    "Tweets=tweepy.Cursor(api.search,q='#NEP',count=50,lang='en',since='2020-07-29',tweet_mode='extended').items()"
   ]
  },
  {
   "cell_type": "code",
   "execution_count": 10,
   "metadata": {},
   "outputs": [
    {
     "data": {
      "text/plain": [
       "tweepy.cursor.ItemIterator"
      ]
     },
     "execution_count": 10,
     "metadata": {},
     "output_type": "execute_result"
    }
   ],
   "source": [
    "type(Tweets)"
   ]
  },
  {
   "cell_type": "code",
   "execution_count": 11,
   "metadata": {},
   "outputs": [],
   "source": [
    "Tweets_List=[tweets for tweets in Tweets]"
   ]
  },
  {
   "cell_type": "code",
   "execution_count": 12,
   "metadata": {},
   "outputs": [],
   "source": [
    "all_tweets = pd.DataFrame(columns = ['username', 'acctdesc', 'location', 'following',\n",
    "                                        'followers', 'totaltweets', 'usercreatedts', 'tweetcreatedts',\n",
    "                                        'retweetcount','likes','text', 'hashtags'])"
   ]
  },
  {
   "cell_type": "code",
   "execution_count": 13,
   "metadata": {},
   "outputs": [],
   "source": [
    "for tweets in Tweets_List:\n",
    "    username=tweets.user.screen_name\n",
    "    acctdesc = tweets.user.description\n",
    "    location = tweets.user.location\n",
    "    following = tweets.user.friends_count\n",
    "    followers = tweets.user.followers_count\n",
    "    totaltweets = tweets.user.statuses_count\n",
    "    usercreatedts = tweets.user.created_at\n",
    "    tweetcreatedts = tweets.created_at\n",
    "    retweetcount = tweets.retweet_count\n",
    "    likes=tweets.favorite_count\n",
    "    hashtags = tweets.entities['hashtags']\n",
    "    \n",
    "    #Here we dont know if the tweet is retweeted or not so for that,\n",
    "    try:\n",
    "        text=tweets.retweeted_status.full_text\n",
    "    except:\n",
    "        text=tweets.full_text\n",
    "    #creating a list of all variables\n",
    "    details=[username,acctdesc,location,following,followers,totaltweets,usercreatedts,tweetcreatedts,retweetcount,likes,text,hashtags]\n",
    "    all_tweets.loc[len(all_tweets)]=details"
   ]
  },
  {
   "cell_type": "code",
   "execution_count": 14,
   "metadata": {},
   "outputs": [
    {
     "data": {
      "text/plain": [
       "pandas.core.frame.DataFrame"
      ]
     },
     "execution_count": 14,
     "metadata": {},
     "output_type": "execute_result"
    }
   ],
   "source": [
    "type(all_tweets)"
   ]
  },
  {
   "cell_type": "code",
   "execution_count": 1,
   "metadata": {},
   "outputs": [
    {
     "ename": "NameError",
     "evalue": "name 'all_tweets' is not defined",
     "output_type": "error",
     "traceback": [
      "\u001b[1;31m---------------------------------------------------------------------------\u001b[0m",
      "\u001b[1;31mNameError\u001b[0m                                 Traceback (most recent call last)",
      "\u001b[1;32m<ipython-input-1-b22ccd09b389>\u001b[0m in \u001b[0;36m<module>\u001b[1;34m\u001b[0m\n\u001b[1;32m----> 1\u001b[1;33m \u001b[0mall_tweets\u001b[0m\u001b[1;33m.\u001b[0m\u001b[0mhead\u001b[0m\u001b[1;33m(\u001b[0m\u001b[1;33m)\u001b[0m\u001b[1;33m\u001b[0m\u001b[1;33m\u001b[0m\u001b[0m\n\u001b[0m",
      "\u001b[1;31mNameError\u001b[0m: name 'all_tweets' is not defined"
     ]
    }
   ],
   "source": [
    "all_tweets.head()"
   ]
  },
  {
   "cell_type": "code",
   "execution_count": 15,
   "metadata": {},
   "outputs": [],
   "source": [
    "all_tweets.to_csv('Tweets.csv')"
   ]
  },
  {
   "cell_type": "code",
   "execution_count": 5,
   "metadata": {},
   "outputs": [],
   "source": [
    "tweets=pd.read_csv('Tweets.csv')"
   ]
  },
  {
   "cell_type": "code",
   "execution_count": 8,
   "metadata": {},
   "outputs": [],
   "source": [
    "tweets.drop('Unnamed: 0',axis=1,inplace=True)"
   ]
  },
  {
   "cell_type": "code",
   "execution_count": 11,
   "metadata": {},
   "outputs": [
    {
     "data": {
      "text/html": [
       "<div>\n",
       "<style scoped>\n",
       "    .dataframe tbody tr th:only-of-type {\n",
       "        vertical-align: middle;\n",
       "    }\n",
       "\n",
       "    .dataframe tbody tr th {\n",
       "        vertical-align: top;\n",
       "    }\n",
       "\n",
       "    .dataframe thead th {\n",
       "        text-align: right;\n",
       "    }\n",
       "</style>\n",
       "<table border=\"1\" class=\"dataframe\">\n",
       "  <thead>\n",
       "    <tr style=\"text-align: right;\">\n",
       "      <th></th>\n",
       "      <th>username</th>\n",
       "      <th>acctdesc</th>\n",
       "      <th>location</th>\n",
       "      <th>following</th>\n",
       "      <th>followers</th>\n",
       "      <th>totaltweets</th>\n",
       "      <th>usercreatedts</th>\n",
       "      <th>tweetcreatedts</th>\n",
       "      <th>retweetcount</th>\n",
       "      <th>likes</th>\n",
       "      <th>text</th>\n",
       "      <th>hashtags</th>\n",
       "    </tr>\n",
       "  </thead>\n",
       "  <tbody>\n",
       "    <tr>\n",
       "      <th>0</th>\n",
       "      <td>abhijithvr8</td>\n",
       "      <td>#MechanicalEngineer , organic farming, fan of ...</td>\n",
       "      <td>GodsOwnCountry</td>\n",
       "      <td>40</td>\n",
       "      <td>17</td>\n",
       "      <td>2101</td>\n",
       "      <td>2014-10-17 08:14:15</td>\n",
       "      <td>2020-08-23 07:30:09</td>\n",
       "      <td>1</td>\n",
       "      <td>0</td>\n",
       "      <td>Called upon the educational institutions to st...</td>\n",
       "      <td>[{'text': 'NEP', 'indices': [76, 80]}]</td>\n",
       "    </tr>\n",
       "    <tr>\n",
       "      <th>1</th>\n",
       "      <td>VMBJP</td>\n",
       "      <td>Minister of State for External Affairs &amp; Parli...</td>\n",
       "      <td>Thiruvananthapuram, Keralam</td>\n",
       "      <td>465</td>\n",
       "      <td>63974</td>\n",
       "      <td>6776</td>\n",
       "      <td>2009-09-29 13:47:24</td>\n",
       "      <td>2020-08-23 07:27:14</td>\n",
       "      <td>1</td>\n",
       "      <td>2</td>\n",
       "      <td>Called upon the educational institutions to st...</td>\n",
       "      <td>[{'text': 'NEP', 'indices': [65, 69]}, {'text'...</td>\n",
       "    </tr>\n",
       "    <tr>\n",
       "      <th>2</th>\n",
       "      <td>Sunilpr87505336</td>\n",
       "      <td>NaN</td>\n",
       "      <td>NaN</td>\n",
       "      <td>163</td>\n",
       "      <td>5</td>\n",
       "      <td>34</td>\n",
       "      <td>2018-10-28 10:41:42</td>\n",
       "      <td>2020-08-23 07:23:21</td>\n",
       "      <td>20</td>\n",
       "      <td>0</td>\n",
       "      <td>While #NEP is aiming to bring phenomenal chang...</td>\n",
       "      <td>[{'text': 'NEP', 'indices': [24, 28]}]</td>\n",
       "    </tr>\n",
       "    <tr>\n",
       "      <th>3</th>\n",
       "      <td>Sushreesuchar13</td>\n",
       "      <td>NaN</td>\n",
       "      <td>NaN</td>\n",
       "      <td>5</td>\n",
       "      <td>11</td>\n",
       "      <td>2396</td>\n",
       "      <td>2020-06-26 18:01:20</td>\n",
       "      <td>2020-08-23 07:21:51</td>\n",
       "      <td>2</td>\n",
       "      <td>0</td>\n",
       "      <td>@DrRPNishank @narendramodi @AmitShah @PMOIndia...</td>\n",
       "      <td>[]</td>\n",
       "    </tr>\n",
       "    <tr>\n",
       "      <th>4</th>\n",
       "      <td>SamPrak56246760</td>\n",
       "      <td>cinematographer</td>\n",
       "      <td>NaN</td>\n",
       "      <td>38</td>\n",
       "      <td>7</td>\n",
       "      <td>28</td>\n",
       "      <td>2020-07-08 09:41:24</td>\n",
       "      <td>2020-08-23 07:09:32</td>\n",
       "      <td>281</td>\n",
       "      <td>0</td>\n",
       "      <td>Join me as I take you on the journey of transf...</td>\n",
       "      <td>[]</td>\n",
       "    </tr>\n",
       "    <tr>\n",
       "      <th>5</th>\n",
       "      <td>varnaVS1</td>\n",
       "      <td>NaN</td>\n",
       "      <td>NaN</td>\n",
       "      <td>3</td>\n",
       "      <td>1</td>\n",
       "      <td>1140</td>\n",
       "      <td>2020-06-24 02:34:39</td>\n",
       "      <td>2020-08-23 07:08:53</td>\n",
       "      <td>2</td>\n",
       "      <td>0</td>\n",
       "      <td>@DrRPNishank @narendramodi @AmitShah @PMOIndia...</td>\n",
       "      <td>[]</td>\n",
       "    </tr>\n",
       "  </tbody>\n",
       "</table>\n",
       "</div>"
      ],
      "text/plain": [
       "          username                                           acctdesc  \\\n",
       "0      abhijithvr8  #MechanicalEngineer , organic farming, fan of ...   \n",
       "1            VMBJP  Minister of State for External Affairs & Parli...   \n",
       "2  Sunilpr87505336                                                NaN   \n",
       "3  Sushreesuchar13                                                NaN   \n",
       "4  SamPrak56246760                                    cinematographer   \n",
       "5         varnaVS1                                                NaN   \n",
       "\n",
       "                      location  following  followers  totaltweets  \\\n",
       "0               GodsOwnCountry         40         17         2101   \n",
       "1  Thiruvananthapuram, Keralam        465      63974         6776   \n",
       "2                          NaN        163          5           34   \n",
       "3                          NaN          5         11         2396   \n",
       "4                          NaN         38          7           28   \n",
       "5                          NaN          3          1         1140   \n",
       "\n",
       "         usercreatedts       tweetcreatedts  retweetcount  likes  \\\n",
       "0  2014-10-17 08:14:15  2020-08-23 07:30:09             1      0   \n",
       "1  2009-09-29 13:47:24  2020-08-23 07:27:14             1      2   \n",
       "2  2018-10-28 10:41:42  2020-08-23 07:23:21            20      0   \n",
       "3  2020-06-26 18:01:20  2020-08-23 07:21:51             2      0   \n",
       "4  2020-07-08 09:41:24  2020-08-23 07:09:32           281      0   \n",
       "5  2020-06-24 02:34:39  2020-08-23 07:08:53             2      0   \n",
       "\n",
       "                                                text  \\\n",
       "0  Called upon the educational institutions to st...   \n",
       "1  Called upon the educational institutions to st...   \n",
       "2  While #NEP is aiming to bring phenomenal chang...   \n",
       "3  @DrRPNishank @narendramodi @AmitShah @PMOIndia...   \n",
       "4  Join me as I take you on the journey of transf...   \n",
       "5  @DrRPNishank @narendramodi @AmitShah @PMOIndia...   \n",
       "\n",
       "                                            hashtags  \n",
       "0             [{'text': 'NEP', 'indices': [76, 80]}]  \n",
       "1  [{'text': 'NEP', 'indices': [65, 69]}, {'text'...  \n",
       "2             [{'text': 'NEP', 'indices': [24, 28]}]  \n",
       "3                                                 []  \n",
       "4                                                 []  \n",
       "5                                                 []  "
      ]
     },
     "execution_count": 11,
     "metadata": {},
     "output_type": "execute_result"
    }
   ],
   "source": [
    "tweets.head(6)"
   ]
  },
  {
   "cell_type": "code",
   "execution_count": null,
   "metadata": {},
   "outputs": [],
   "source": []
  }
 ],
 "metadata": {
  "kernelspec": {
   "display_name": "Python 3",
   "language": "python",
   "name": "python3"
  },
  "language_info": {
   "codemirror_mode": {
    "name": "ipython",
    "version": 3
   },
   "file_extension": ".py",
   "mimetype": "text/x-python",
   "name": "python",
   "nbconvert_exporter": "python",
   "pygments_lexer": "ipython3",
   "version": "3.7.6"
  }
 },
 "nbformat": 4,
 "nbformat_minor": 2
}
